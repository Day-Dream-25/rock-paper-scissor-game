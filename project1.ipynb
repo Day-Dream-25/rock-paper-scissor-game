{
 "cells": [
  {
   "cell_type": "code",
   "execution_count": 1,
   "metadata": {},
   "outputs": [],
   "source": [
    "import random"
   ]
  },
  {
   "cell_type": "code",
   "execution_count": 2,
   "metadata": {},
   "outputs": [
    {
     "name": "stdout",
     "output_type": "stream",
     "text": [
      "Winning Rules of the Rock paper scissor game as follows: \n",
      "Rock vs paper->paper wins \n",
      "Rock vs scissor->Rock wins \n",
      "paper vs scissor->scissor wins \n",
      "\n"
     ]
    }
   ],
   "source": [
    "print(\"Winning Rules of the Rock paper scissor game as follows: \\n\"\n",
    "                                +\"Rock vs paper->paper wins \\n\"\n",
    "                                + \"Rock vs scissor->Rock wins \\n\"\n",
    "                                +\"paper vs scissor->scissor wins \\n\")"
   ]
  },
  {
   "cell_type": "code",
   "execution_count": null,
   "metadata": {},
   "outputs": [],
   "source": [
    "\n",
    "\n",
    "while True:\n",
    "\tprint(\"Enter choice \\n 1. Rock \\n 2. paper \\n 3. scissor \\n\")\n",
    "\t\n",
    "\n",
    "\tchoice = int(input(\"User turn: \"))\n",
    "\n",
    "\t\n",
    "\twhile choice > 3 or choice < 1:\n",
    "\t\tchoice = int(input(\"enter valid input: \"))\n",
    "\t\t\n",
    "\n",
    "\t\n",
    "\tif choice == 1:\n",
    "\t\tchoice_name = 'Rock'\n",
    "\telif choice == 2:\n",
    "\t\tchoice_name = 'paper'\n",
    "\telse:\n",
    "\t\tchoice_name = 'scissor'\n",
    "\t\t\n",
    "\t\n",
    "\tprint(\"user choice is: \" + choice_name)\n",
    "\tprint(\"\\nNow its computer turn.......\")\n",
    "\n",
    "\t\n",
    "\tcomp_choice = random.randint(1, 3)\n",
    "\t\n",
    "\t\n",
    "\twhile comp_choice == choice:\n",
    "\t\tcomp_choice = random.randint(1, 3)\n",
    "\n",
    "\t\n",
    "\tif comp_choice == 1:\n",
    "\t\tcomp_choice_name = 'Rock'\n",
    "\telif comp_choice == 2:\n",
    "\t\tcomp_choice_name = 'paper'\n",
    "\telse:\n",
    "\t\tcomp_choice_name = 'scissor'\n",
    "\t\t\n",
    "\tprint(\"Computer choice is: \" + comp_choice_name)\n",
    "\n",
    "\tprint(choice_name + \" V/s \" + comp_choice_name)\n",
    "\n",
    "\t\n",
    "\tif((choice == 1 and comp_choice == 2) or\n",
    "\t(choice == 2 and comp_choice ==1 )):\n",
    "\t\tprint(\"paper wins => \", end = \"\")\n",
    "\t\tresult = \"paper\"\n",
    "\t\t\n",
    "\telif((choice == 1 and comp_choice == 3) or\n",
    "\t\t(choice == 3 and comp_choice == 1)):\n",
    "\t\tprint(\"Rock wins =>\", end = \"\")\n",
    "\t\tresult = \"Rock\"\n",
    "\telse:\n",
    "\t\tprint(\"scissor wins =>\", end = \"\")\n",
    "\t\tresult = \"scissor\"\n",
    "\n",
    "\t\n",
    "\tif result == choice_name:\n",
    "\t\tprint(\"<== User wins ==>\")\n",
    "\telse:\n",
    "\t\tprint(\"<== Computer wins ==>\")\n",
    "\t\t\n",
    "\tprint(\"Do you want to play again? (Y/N)\")\n",
    "\tans = input()\n",
    "\n",
    "\n",
    "\t\n",
    "\tif ans == 'n' or ans == 'N':\n",
    "\t\tbreak\n",
    "\t\n",
    "\n",
    "print(\"\\nThanks for playing\")\n"
   ]
  }
 ],
 "metadata": {
  "interpreter": {
   "hash": "33dc6d49505b4536b6a128d9d7c879e1fa44477ad44947bbbe73093067fe6393"
  },
  "kernelspec": {
   "display_name": "Python 3.9.1 64-bit",
   "name": "python3"
  },
  "language_info": {
   "codemirror_mode": {
    "name": "ipython",
    "version": 3
   },
   "file_extension": ".py",
   "mimetype": "text/x-python",
   "name": "python",
   "nbconvert_exporter": "python",
   "pygments_lexer": "ipython3",
   "version": "3.9.1"
  },
  "orig_nbformat": 4
 },
 "nbformat": 4,
 "nbformat_minor": 2
}
